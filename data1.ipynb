{
 "cells": [
  {
   "cell_type": "code",
   "execution_count": 2,
   "metadata": {},
   "outputs": [],
   "source": [
    "from tensorflow import keras\n",
    "from tensorflow.keras import layers\n",
    "model=model = keras.Sequential([\n",
    "    layers.Dense(512, activation=\"relu\"),#it outputs the input directly if it is positive; otherwise, it outputs zero. \n",
    "    layers.Dense(10, activation=\"softmax\")#convert raw scores into probability distribution.\n",
    "])\n",
    "model.compile(optimizer=\"rmsprop\",\n",
    "              loss=\"sparse_categorical_crossentropy\",\n",
    "              metrics=[\"accuracy\"])\n",
    "\n"
   ]
  },
  {
   "cell_type": "code",
   "execution_count": null,
   "metadata": {},
   "outputs": [],
   "source": [
    "import numpy as np\n",
    "\n",
    "num_samples=1200\n",
    "vocab_size=10000\n",
    "num_tags=100\n",
    "num_departments=4\n",
    "\n",
    "title_data= np.random.randint(0,2,size=(num_samples,vocab_size))\n",
    "text_body_data=np.random.randint(0,2,size=(num_samples,vocab_size))\n",
    "tags_data=np.random.randint(0,2,size=(num_samples,num_tags))\n",
    "\n",
    "priority_data=np.random.random(size=(num_samples,1))\n",
    "department_data=np.random.randint(0,2,size=(num_samples,num_departments))\n",
    "\n",
    "model.compile(optimizer=\"rmsprop\",loss=[\"mean_squared_error\",\"categorical_crossentropy\"],metrics=[[\"mean_absolute_error\"],[\"accuracy\"]])\n",
    "model.fit([title_data,text_body_data,tags_data],[priority_data,department_data],epochs=1)\n",
    "model.evaluate([title_data,text_body_data,tags_data],[priority_data,department_data])\n",
    "priority_preds,department_preds= model.predict(title_data,text_body_data,tags_data)\n"
   ]
  }
 ],
 "metadata": {
  "kernelspec": {
   "display_name": "Python 3",
   "language": "python",
   "name": "python3"
  },
  "language_info": {
   "codemirror_mode": {
    "name": "ipython",
    "version": 3
   },
   "file_extension": ".py",
   "mimetype": "text/x-python",
   "name": "python",
   "nbconvert_exporter": "python",
   "pygments_lexer": "ipython3",
   "version": "3.9.6"
  }
 },
 "nbformat": 4,
 "nbformat_minor": 2
}
