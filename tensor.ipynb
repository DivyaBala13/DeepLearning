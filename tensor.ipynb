{
 "cells": [
  {
   "cell_type": "code",
   "execution_count": 10,
   "metadata": {},
   "outputs": [
    {
     "data": {
      "text/plain": [
       "<tf.Variable 'Variable:0' shape=(3, 1) dtype=float32, numpy=\n",
       "array([[2.],\n",
       "       [2.],\n",
       "       [2.]], dtype=float32)>"
      ]
     },
     "execution_count": 10,
     "metadata": {},
     "output_type": "execute_result"
    }
   ],
   "source": [
    "import tensorflow as tf\n",
    "#(2,1,2)-> two are a rows and columns here,and middle one is an axis  \n",
    "x=tf.ones(shape=(2,1,2))\n",
    "v = tf.Variable(initial_value=tf.random.normal(shape=(3, 1)))\n",
    "#here 3 are a rows and 1 is a columns\n",
    "v.assign(tf.ones((3, 1)))\n",
    "#this function will add ones with ones \n",
    "v.assign_add(tf.ones((3, 1)))\n",
    "v"
   ]
  },
  {
   "cell_type": "code",
   "execution_count": 25,
   "metadata": {},
   "outputs": [
    {
     "name": "stdout",
     "output_type": "stream",
     "text": [
      "tf.Tensor(0.0, shape=(), dtype=float32)\n",
      "tf.Tensor(9.8, shape=(), dtype=float32)\n"
     ]
    }
   ],
   "source": [
    "#using a gradient tape\n",
    "input_var=tf.Variable(initial_value=3.)\n",
    "# Use a gradient tape to track operations on the variable\n",
    "with tf.GradientTape() as tape:\n",
    "    result=tf.square(input_var)\n",
    "# Calculate the gradient of `result` with respect to `input_var`\n",
    "gradient=tape.gradient(result,input_var)\n",
    "\n",
    "#using a gradient tape\n",
    "input_const=tf.constant(6.)\n",
    "with tf.GradientTape() as tape:\n",
    "    tape.watch(input_const)\n",
    "    result=tf.square(input_const)\n",
    "gradient=tape.gradient(result,input_const)\n",
    "\n",
    "time=tf.Variable(0.)\n",
    "with tf.GradientTape() as outerTape:\n",
    "    with tf.GradientTape() as innerTape:\n",
    "        position=4.9 * time ** 2\n",
    "    speed=innerTape.gradient(position,time)\n",
    "    print(speed)\n",
    "accelaration=outerTape.gradient(speed,time)\n",
    "print(accelaration)\n"
   ]
  },
  {
   "cell_type": "code",
   "execution_count": null,
   "metadata": {},
   "outputs": [],
   "source": [
    "import numpy as np;\n",
    "num_samples_per_class=1000\n",
    "#The multivariate normal, multinormal is a generalization of the one-dimensionalnormal distribution to  higher dimensions.\n",
    "negative_samples=np.random.multivariate_normal(\n",
    "    mean=[0,3],\n",
    "    cov=[[1,0.5],[0.5,1]],\n",
    "    size=num_samples_per_class\n",
    ")\n",
    "positive_samples=np.random.multivariate_normal(\n",
    "    mean=[3,0],\n",
    "    cov=[[1,0.5],[0.5,1]],\n",
    "    size=num_samples_per_class\n",
    ")\n",
    "inputs=np.vstack((negative_samples,positive_samples)).astype(np.float32)\n",
    "# Create the targets (0 for negative samples, 1 for positive samples)\n",
    "targets = np.vstack((\n",
    "    np.zeros((num_samples_per_class, 1), dtype=\"float32\"),  # Class 0 (negative)\n",
    "    np.ones((num_samples_per_class, 1), dtype=\"float32\")    # Class 1 (positive)\n",
    "))\n",
    "import matplotlib.pyplot as plt\n",
    "plt.scatter(inputs[:,0],inputs[:,1],c=targets[:,0])"
   ]
  },
  {
   "cell_type": "code",
   "execution_count": 3,
   "metadata": {},
   "outputs": [
    {
     "data": {
      "text/plain": [
       "<tf.Variable 'Variable:0' shape=(2, 1) dtype=float32, numpy=\n",
       "array([[0.31179297],\n",
       "       [0.8263413 ]], dtype=float32)>"
      ]
     },
     "execution_count": 3,
     "metadata": {},
     "output_type": "execute_result"
    }
   ],
   "source": [
    "\n",
    "import tensorflow as tf\n",
    "# a basic linear regression model in TensorFlow to classify points in 2D space\n",
    "# linear regression model -a data analysis technique that predicts the value of unknown data by using another related\n",
    "# and known data value, It is a statistical method used in data science and machine learning for predictive analysis.\n",
    "\n",
    "# the input will be in 2D points \n",
    "input_dim=2 #Each sample has two features (e.g., x and y coordinates).\n",
    "# output predicted will be single score per sample.close to 0 if sample is in class 0 and close to 1 if sample is in class1\n",
    "# class 0  and class 1 is binary classification problem.where as class 0 is negative and class1 is positive\n",
    "\n",
    "output_dim=1  #The model outputs a single value, which is a prediction of the likelihood of a point belonging to Class 1.\n",
    "\n",
    "#W is an random number with shape as 2, 1 so 2 rows and 1 columns [[W1],[W2]]\n",
    "W=tf.Variable(tf.random.uniform(shape=(input_dim,output_dim)))\n",
    "\n",
    "#Whereas B is a zero with shape 1, array is [0.]\n",
    "# B is the bias term, initialized to zero, and it shifts the prediction result by a constant.\n",
    "b=tf.Variable(tf.zeros(shape=(output_dim)))\n",
    "\n",
    "# Forward pass inputs are [x,y]\n",
    "#This model function computes the predictional value using linear equations.\n",
    "def model(inputs):\n",
    "    return tf.matmul(inputs,W)+b # predictions = [[W1],[W2]] * [x,y] +b = W1 * x + w2 * y + b\n",
    "\n",
    "\n",
    "# Loss Function\n",
    "# The loss function is the mean squared error(MSE),which measures how far the predicted values are from the true targets (0 or 1).\n",
    "def square_loss(targets,predictions):\n",
    "    per_sample_losses= tf.square(targets-predictions)\n",
    "    return tf.reduce_mean(per_sample_losses)\n",
    "\n",
    "learning_rate=0.1\n",
    "#The training step implements the optimization using gradient descent\n",
    "def training_step(inputs,targets):\n",
    "    with tf.GradientTape() as tape:\n",
    "        predictions=model(inputs) #call forward pass function\n",
    "        loss=square_loss(predictions,targets) #call loss function\n",
    "    grad_loss_wrt_W, grad_loss_wrt_b = tape.gradient(loss,[W,b])\n",
    "    W.assign_sub(grad_loss_wrt_W * learning_rate)\n",
    "    b.assign_sub(grad_loss_wrt_b * learning_rate)\n",
    "    return loss\n",
    "\n",
    "W\n"
   ]
  },
  {
   "cell_type": "code",
   "execution_count": null,
   "metadata": {},
   "outputs": [],
   "source": []
  }
 ],
 "metadata": {
  "kernelspec": {
   "display_name": "Python 3",
   "language": "python",
   "name": "python3"
  },
  "language_info": {
   "codemirror_mode": {
    "name": "ipython",
    "version": 3
   },
   "file_extension": ".py",
   "mimetype": "text/x-python",
   "name": "python",
   "nbconvert_exporter": "python",
   "pygments_lexer": "ipython3",
   "version": "3.9.6"
  }
 },
 "nbformat": 4,
 "nbformat_minor": 2
}
